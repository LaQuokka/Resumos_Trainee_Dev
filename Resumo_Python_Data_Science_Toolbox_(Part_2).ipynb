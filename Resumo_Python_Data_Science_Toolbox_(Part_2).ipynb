{
  "nbformat": 4,
  "nbformat_minor": 0,
  "metadata": {
    "colab": {
      "provenance": [],
      "collapsed_sections": [
        "1eJGukzJO_B2",
        "r0GIZ6fnuwwp",
        "rUd0kEsTVWMw"
      ],
      "include_colab_link": true
    },
    "kernelspec": {
      "name": "python3",
      "display_name": "Python 3"
    },
    "language_info": {
      "name": "python"
    }
  },
  "cells": [
    {
      "cell_type": "markdown",
      "metadata": {
        "id": "view-in-github",
        "colab_type": "text"
      },
      "source": [
        "<a href=\"https://colab.research.google.com/github/LaQuokka/Resumos_Trainee_Dev/blob/main/Resumo_Python_Data_Science_Toolbox_(Part_2).ipynb\" target=\"_parent\"><img src=\"https://colab.research.google.com/assets/colab-badge.svg\" alt=\"Open In Colab\"/></a>"
      ]
    },
    {
      "cell_type": "markdown",
      "source": [
        "# <font color=red>Python Data Science Toolbox (Part 2)\n",
        "\n",
        "* Capítulo 1: Iteradores\n",
        "* Capítulo 2: List Comprehensions e geradores\n",
        "* Capítulo 3: Estudo de caso  \n",
        "\n",
        "<br/>\n",
        "\n",
        "##**Links úteis:**\n",
        "\n",
        "* [Link dos slides](https://drive.google.com/drive/folders/1mrI0z1z6i3uuaxnqghAUOCVrVLnb5hAn?usp=share_link)\n",
        "* [Link do curso](https://app.datacamp.com/learn/courses/python-data-science-toolbox-part-2)\n",
        "\n",
        "**Responsáveis:** Cinthya e Maria Raquel"
      ],
      "metadata": {
        "id": "8AnaXCKZm6-a"
      }
    },
    {
      "cell_type": "markdown",
      "source": [
        "# <font color=red>Capítulo 1: Iteradores"
      ],
      "metadata": {
        "id": "3wxIB1UZs4ue"
      }
    },
    {
      "cell_type": "markdown",
      "source": [
        "##Introdução a iteradores"
      ],
      "metadata": {
        "id": "QWrkVSsXL8EF"
      }
    },
    {
      "cell_type": "markdown",
      "source": [
        "Iterador: um objeto que permite iterar nele, de modo que retorna dados, um elemento de cada vez.\n",
        "- Para criar um iterador, usa-se a função `iter()`, que deve conter como input um objeto iterável;\n",
        "- Depois disso, usa-se a função `next()` para retornar o próximo elemento daquele objeto."
      ],
      "metadata": {
        "id": "nafQPvdhtBRS"
      }
    },
    {
      "cell_type": "code",
      "source": [
        "# Criar uma lista\n",
        "devbixos1 = ['!cinthya!!', 'Maria Raquel', 'isadora russo', 'Jonathan Novais', 'Carlos Henrique', 'lorenzo']\n",
        "\n",
        "# Criar um iterador para a lista\n",
        "devbixos2 = iter(devbixos1)\n",
        "\n",
        "# Printar cada elemento do iterador\n",
        "print(next(devbixos2))\n",
        "print(next(devbixos2))\n",
        "print(next(devbixos2))\n",
        "print(next(devbixos2))\n",
        "print(next(devbixos2))\n",
        "print(next(devbixos2))"
      ],
      "metadata": {
        "id": "a6kr1E7-ujcB",
        "colab": {
          "base_uri": "https://localhost:8080/"
        },
        "outputId": "a83b888b-ae08-420f-fc94-1ff2f19c486c"
      },
      "execution_count": 11,
      "outputs": [
        {
          "output_type": "stream",
          "name": "stdout",
          "text": [
            "!cinthya!!\n",
            "Maria Raquel\n",
            "isadora russo\n",
            "Jonathan Novais\n",
            "Carlos Henrique\n",
            "lorenzo\n"
          ]
        }
      ]
    },
    {
      "cell_type": "code",
      "source": [
        "devbixos2 = iter(devbixos1)\n",
        "\n",
        "# Iterar todos os elementos de uma vez usando *\n",
        "print(*devbixos2)"
      ],
      "metadata": {
        "id": "FGxhOphF8nEO",
        "colab": {
          "base_uri": "https://localhost:8080/"
        },
        "outputId": "518feee4-3063-4797-d0e1-bccc62f35a38"
      },
      "execution_count": 12,
      "outputs": [
        {
          "output_type": "stream",
          "name": "stdout",
          "text": [
            "!cinthya!! Maria Raquel isadora russo Jonathan Novais Carlos Henrique lorenzo\n"
          ]
        }
      ]
    },
    {
      "cell_type": "code",
      "source": [
        "# Iterar um objeto range a partir de um for loop\n",
        "for i in range(10):\n",
        "  print(i)"
      ],
      "metadata": {
        "id": "9t-P1RSU-m-e",
        "colab": {
          "base_uri": "https://localhost:8080/"
        },
        "outputId": "1f451087-7fcb-4fac-da67-e761cc1f540e"
      },
      "execution_count": 13,
      "outputs": [
        {
          "output_type": "stream",
          "name": "stdout",
          "text": [
            "0\n",
            "1\n",
            "2\n",
            "3\n",
            "4\n",
            "5\n",
            "6\n",
            "7\n",
            "8\n",
            "9\n"
          ]
        }
      ]
    },
    {
      "cell_type": "markdown",
      "source": [
        "Iterável: um objeto que possui um método `iter()` associado, que quando aplicado cria um iterador. \n",
        "\n",
        "De modo simples, iterável é um objeto que pode ser iterado.\n",
        "\n",
        "<br/>\n",
        "\n",
        "<div align=\"center\">\n",
        "\n",
        "![WhatsApp Image 2023-01-28 at 1.27.27 AM.jpeg](data:image/jpeg;base64,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)\n",
        "\n",
        "</div>\n",
        "\n",
        "<br/>\n",
        "\n",
        "* Exemplos: listas, range, strings, dicionários e file connections.\n",
        " "
      ],
      "metadata": {
        "id": "sUIpn-tWCq6l"
      }
    },
    {
      "cell_type": "code",
      "source": [
        "for caractere in 'Fea.dev':\n",
        "  print(caractere)"
      ],
      "metadata": {
        "id": "ueeN26HxHNN1",
        "colab": {
          "base_uri": "https://localhost:8080/"
        },
        "outputId": "bd078192-5c3d-434d-a827-f04c256daef9"
      },
      "execution_count": 14,
      "outputs": [
        {
          "output_type": "stream",
          "name": "stdout",
          "text": [
            "F\n",
            "e\n",
            "a\n",
            ".\n",
            "d\n",
            "e\n",
            "v\n"
          ]
        }
      ]
    },
    {
      "cell_type": "code",
      "source": [
        "# iterando em dicionários\n",
        "random_word = {'liliputiano': 'extremamente pequeno', \n",
        "                'Nostradamus': 'nome de um astrólogo francês', \n",
        "                'mimeógrafo': 'instrumento usado para fazer cópias'}\n",
        "\n",
        "for key, value in random_word.items():\n",
        "  print(key, value)"
      ],
      "metadata": {
        "id": "NaAWjyp5Hpht",
        "colab": {
          "base_uri": "https://localhost:8080/"
        },
        "outputId": "f70a25bf-baaf-4028-abb2-c39f1e2d544d"
      },
      "execution_count": 15,
      "outputs": [
        {
          "output_type": "stream",
          "name": "stdout",
          "text": [
            "liliputiano extremamente pequeno\n",
            "Nostradamus nome de um astrólogo francês\n",
            "mimeógrafo instrumento usado para fazer cópias\n"
          ]
        }
      ]
    },
    {
      "cell_type": "code",
      "source": [
        "# iterando em uma file connections\n",
        "objeto = open('mentores.txt')\n",
        "\n",
        "for linha in objeto:\n",
        "  print(linha)"
      ],
      "metadata": {
        "id": "7PYP7bWYKFN3",
        "colab": {
          "base_uri": "https://localhost:8080/",
          "height": 235
        },
        "outputId": "f8739726-4214-48bb-b778-040a47968668"
      },
      "execution_count": 16,
      "outputs": [
        {
          "output_type": "error",
          "ename": "FileNotFoundError",
          "evalue": "ignored",
          "traceback": [
            "\u001b[0;31m---------------------------------------------------------------------------\u001b[0m",
            "\u001b[0;31mFileNotFoundError\u001b[0m                         Traceback (most recent call last)",
            "\u001b[0;32m<ipython-input-16-684aa61deb5c>\u001b[0m in \u001b[0;36m<module>\u001b[0;34m\u001b[0m\n\u001b[1;32m      1\u001b[0m \u001b[0;31m# iterando em uma file connections\u001b[0m\u001b[0;34m\u001b[0m\u001b[0;34m\u001b[0m\u001b[0;34m\u001b[0m\u001b[0m\n\u001b[0;32m----> 2\u001b[0;31m \u001b[0mobjeto\u001b[0m \u001b[0;34m=\u001b[0m \u001b[0mopen\u001b[0m\u001b[0;34m(\u001b[0m\u001b[0;34m'mentores.txt'\u001b[0m\u001b[0;34m)\u001b[0m\u001b[0;34m\u001b[0m\u001b[0;34m\u001b[0m\u001b[0m\n\u001b[0m\u001b[1;32m      3\u001b[0m \u001b[0;34m\u001b[0m\u001b[0m\n\u001b[1;32m      4\u001b[0m \u001b[0;32mfor\u001b[0m \u001b[0mlinha\u001b[0m \u001b[0;32min\u001b[0m \u001b[0mobjeto\u001b[0m\u001b[0;34m:\u001b[0m\u001b[0;34m\u001b[0m\u001b[0;34m\u001b[0m\u001b[0m\n\u001b[1;32m      5\u001b[0m   \u001b[0mprint\u001b[0m\u001b[0;34m(\u001b[0m\u001b[0mlinha\u001b[0m\u001b[0;34m)\u001b[0m\u001b[0;34m\u001b[0m\u001b[0;34m\u001b[0m\u001b[0m\n",
            "\u001b[0;31mFileNotFoundError\u001b[0m: [Errno 2] No such file or directory: 'mentores.txt'"
          ]
        }
      ]
    },
    {
      "cell_type": "markdown",
      "source": [
        "## Brincando com iteradores"
      ],
      "metadata": {
        "id": "1eJGukzJO_B2"
      }
    },
    {
      "cell_type": "markdown",
      "source": [
        "`enumerate()`: retorna uma tupla com pares de elementos: um número de uma sequência e um item do objeto.\n",
        "* Muito usada quando precisa-se dos índices dos elementos de listas ou iteráveis em geral."
      ],
      "metadata": {
        "id": "AJOJUuxrPjvt"
      }
    },
    {
      "cell_type": "code",
      "source": [
        "# Como funciona a função\n",
        "enumerar = enumerate(devbixos1)\n",
        "enumerar = list(enumerar)\n",
        "print(enumerar)"
      ],
      "metadata": {
        "id": "LWTTWoOBRQtZ"
      },
      "execution_count": null,
      "outputs": []
    },
    {
      "cell_type": "code",
      "source": [
        "# Iterando com enumerate()\n",
        "for index, value in enumerate(devbixos1):\n",
        "  print(index, value)"
      ],
      "metadata": {
        "id": "GWXEP4HPPR3V"
      },
      "execution_count": null,
      "outputs": []
    },
    {
      "cell_type": "code",
      "source": [
        "# Alterando a sequência\n",
        "for index, value in enumerate(devbixos1, start=15):\n",
        "  print(index, value)"
      ],
      "metadata": {
        "id": "j_wOC145RuQo"
      },
      "execution_count": null,
      "outputs": []
    },
    {
      "cell_type": "markdown",
      "source": [
        "`zip()`: usa um ou mais iteráveis ​​como inputs e retorna tuplas, que são a fusão entre os elementos dos objetos de entrada."
      ],
      "metadata": {
        "id": "v5KDn-94SgLr"
      }
    },
    {
      "cell_type": "code",
      "source": [
        "candidatos = ['Ka', 'Max', 'Arthur', 'Aninha']\n",
        "cargos = ['Diretoria de Marketing', 'Presidas', 'Diretoria de RH', 'Diretoria de Projetos']\n",
        "\n",
        "# Criar um objeto zip, torná-lo uma lista e printá-la\n",
        "z = zip(candidatos, cargos)\n",
        "z_list = list(z)\n",
        "print(z_list)"
      ],
      "metadata": {
        "id": "sW7FLtAMS1nn"
      },
      "execution_count": null,
      "outputs": []
    },
    {
      "cell_type": "code",
      "source": [
        "# Iterar sobre um objeto zip\n",
        "z = zip(candidatos, cargos)\n",
        "\n",
        "for z1, z2 in z:\n",
        "  print(z1, z2)"
      ],
      "metadata": {
        "id": "nFVOxqKbTyzp"
      },
      "execution_count": null,
      "outputs": []
    },
    {
      "cell_type": "markdown",
      "source": [
        "## Usando iteradores para ler arquivos grandes"
      ],
      "metadata": {
        "id": "r0GIZ6fnuwwp"
      }
    },
    {
      "cell_type": "markdown",
      "source": [
        "<div align=\"center\">\n",
        "\n",
        "![WhatsApp Image 2023-01-28 at 1.45.15 AM.jpeg](data:image/jpeg;base64,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)\n",
        "\n",
        "</div>\n",
        "\n",
        "<br/>\n",
        "\n",
        "Utilizando iterações e `chunk()`, é possível processar um dataset inteiro parte por parte, em vez de uma única passagem de uma só vez.\n",
        "\n",
        "Vantagens:\n",
        "* Processo mais rápido\n",
        "* Não ocupa tanto espaço na memória"
      ],
      "metadata": {
        "id": "roqWnH-pX2KH"
      }
    },
    {
      "cell_type": "code",
      "source": [
        "import pandas as pd"
      ],
      "metadata": {
        "id": "u4mj69P2Z4tI"
      },
      "execution_count": null,
      "outputs": []
    },
    {
      "cell_type": "code",
      "source": [
        "# Criar dicionário vazio\n",
        "counts_dict = {}\n",
        "\n",
        "# Iterar sobre o arquivo em partes\n",
        "for chunk in pd.read_csv('tweets.csv', chunksize = 10):\n",
        "\n",
        "  # Iterar sobre a coluna do df\n",
        "  for entry in chunk['lang']:\n",
        "    if entry in counts_dict.keys():\n",
        "      counts_dict[entry] += 1\n",
        "    else:\n",
        "      counts_dict[entry] = 1\n",
        "\n",
        "# Dar um print no dicionário\n",
        "print(counts_dict)"
      ],
      "metadata": {
        "id": "9HYTw7-lYcUp"
      },
      "execution_count": null,
      "outputs": []
    },
    {
      "cell_type": "code",
      "source": [
        "# Define a função count_entries()\n",
        "def count_entries(csv_file, c_size, colname):\n",
        "    \"\"\"Retorna um dicionário com a contagem de ocorrências \n",
        "    como valor para cada chave.\"\"\"\n",
        "    \n",
        "    counts_dict = {}\n",
        "\n",
        "    # Iterar sobre arquivo parte por parte\n",
        "    for chunk in pd.read_csv(csv_file, chunksize=c_size):\n",
        "\n",
        "        # Iterar sobre uma coluna do df\n",
        "        for entry in chunk[colname]:\n",
        "            if entry in counts_dict.keys():\n",
        "                counts_dict[entry] += 1\n",
        "            else:\n",
        "                counts_dict[entry] = 1\n",
        "\n",
        "    # Retornar counts_dict\n",
        "    return counts_dict"
      ],
      "metadata": {
        "id": "ULlu3lsbbINj"
      },
      "execution_count": null,
      "outputs": []
    },
    {
      "cell_type": "code",
      "source": [
        "result_counts2 = count_entries('tweets.csv', 10, 'lang')\n",
        "print(result_counts2)"
      ],
      "metadata": {
        "id": "_n4AlyBwcnzL"
      },
      "execution_count": null,
      "outputs": []
    },
    {
      "cell_type": "code",
      "source": [
        "result_counts1 = count_entries('carteiras.csv', 200, 'ativo_desc')\n",
        "print(result_counts1)"
      ],
      "metadata": {
        "id": "S8pT_QCraJf7"
      },
      "execution_count": null,
      "outputs": []
    },
    {
      "cell_type": "code",
      "source": [
        "df = pd.read_csv('tweets.csv')\n",
        "df.value_counts('lang')"
      ],
      "metadata": {
        "id": "CCMi5Npuu8Lc"
      },
      "execution_count": null,
      "outputs": []
    },
    {
      "cell_type": "markdown",
      "source": [
        " # <font color=red>Capítulo 2: Comprehensions e geradores"
      ],
      "metadata": {
        "id": "ZB1sDJutqBIh"
      }
    },
    {
      "cell_type": "markdown",
      "source": [
        "## **Comprehensions**\n",
        "\n",
        "### Por que utilizar?\n",
        "\n",
        "**```Comprehensions```, em alguns casos, são muito mais eficientes do que ```for loops``` em termos de computação e de espaço no código**, quando a intenção é gerar listas ou dicionários.\n",
        "\n",
        "Veja o exemplo abaixo, que expõe a diferença de velocidade no processamento de um ```for loop``` e de uma ```list comprehension``` com a exata mesma função.\n"
      ],
      "metadata": {
        "id": "GUcBZ9JQY2XR"
      }
    },
    {
      "cell_type": "code",
      "source": [
        "# Criando uma lista com os números 0 a 999 multiplicados por 2 e acrescidos de 10\n",
        "# utilizando for loop\n",
        "\n",
        "# Importando o módulo time para verificar o tempo de execução do código\n",
        "import time \n",
        "\n",
        "# Registrando o tempo inicial\n",
        "start_for = time.time()\n",
        "\n",
        "# Criando uma lista vazia\n",
        "my_list = [] \n",
        "\n",
        "for i in range(0,1000): # Iterando através dos números 0 a 999 \n",
        "  my_list.append(i*2 + 10) # Dobrando e somando 10 a cada número\n",
        "\n",
        "# Registrando o tempo final\n",
        "end_for = time.time()\n",
        "\n",
        "print(my_list) # Printando a lista de números criada\n",
        "\n",
        "print('Tempo de execução do loop: ', round((end_for - start_for) * 10 ** 3, 4), 'ms')"
      ],
      "metadata": {
        "colab": {
          "base_uri": "https://localhost:8080/"
        },
        "id": "xepXI2xsZcn_",
        "outputId": "c7f850c9-b9e8-4c1d-d0a9-c24df387e597"
      },
      "execution_count": 18,
      "outputs": [
        {
          "output_type": "stream",
          "name": "stdout",
          "text": [
            "[10, 12, 14, 16, 18, 20, 22, 24, 26, 28, 30, 32, 34, 36, 38, 40, 42, 44, 46, 48, 50, 52, 54, 56, 58, 60, 62, 64, 66, 68, 70, 72, 74, 76, 78, 80, 82, 84, 86, 88, 90, 92, 94, 96, 98, 100, 102, 104, 106, 108, 110, 112, 114, 116, 118, 120, 122, 124, 126, 128, 130, 132, 134, 136, 138, 140, 142, 144, 146, 148, 150, 152, 154, 156, 158, 160, 162, 164, 166, 168, 170, 172, 174, 176, 178, 180, 182, 184, 186, 188, 190, 192, 194, 196, 198, 200, 202, 204, 206, 208, 210, 212, 214, 216, 218, 220, 222, 224, 226, 228, 230, 232, 234, 236, 238, 240, 242, 244, 246, 248, 250, 252, 254, 256, 258, 260, 262, 264, 266, 268, 270, 272, 274, 276, 278, 280, 282, 284, 286, 288, 290, 292, 294, 296, 298, 300, 302, 304, 306, 308, 310, 312, 314, 316, 318, 320, 322, 324, 326, 328, 330, 332, 334, 336, 338, 340, 342, 344, 346, 348, 350, 352, 354, 356, 358, 360, 362, 364, 366, 368, 370, 372, 374, 376, 378, 380, 382, 384, 386, 388, 390, 392, 394, 396, 398, 400, 402, 404, 406, 408, 410, 412, 414, 416, 418, 420, 422, 424, 426, 428, 430, 432, 434, 436, 438, 440, 442, 444, 446, 448, 450, 452, 454, 456, 458, 460, 462, 464, 466, 468, 470, 472, 474, 476, 478, 480, 482, 484, 486, 488, 490, 492, 494, 496, 498, 500, 502, 504, 506, 508, 510, 512, 514, 516, 518, 520, 522, 524, 526, 528, 530, 532, 534, 536, 538, 540, 542, 544, 546, 548, 550, 552, 554, 556, 558, 560, 562, 564, 566, 568, 570, 572, 574, 576, 578, 580, 582, 584, 586, 588, 590, 592, 594, 596, 598, 600, 602, 604, 606, 608, 610, 612, 614, 616, 618, 620, 622, 624, 626, 628, 630, 632, 634, 636, 638, 640, 642, 644, 646, 648, 650, 652, 654, 656, 658, 660, 662, 664, 666, 668, 670, 672, 674, 676, 678, 680, 682, 684, 686, 688, 690, 692, 694, 696, 698, 700, 702, 704, 706, 708, 710, 712, 714, 716, 718, 720, 722, 724, 726, 728, 730, 732, 734, 736, 738, 740, 742, 744, 746, 748, 750, 752, 754, 756, 758, 760, 762, 764, 766, 768, 770, 772, 774, 776, 778, 780, 782, 784, 786, 788, 790, 792, 794, 796, 798, 800, 802, 804, 806, 808, 810, 812, 814, 816, 818, 820, 822, 824, 826, 828, 830, 832, 834, 836, 838, 840, 842, 844, 846, 848, 850, 852, 854, 856, 858, 860, 862, 864, 866, 868, 870, 872, 874, 876, 878, 880, 882, 884, 886, 888, 890, 892, 894, 896, 898, 900, 902, 904, 906, 908, 910, 912, 914, 916, 918, 920, 922, 924, 926, 928, 930, 932, 934, 936, 938, 940, 942, 944, 946, 948, 950, 952, 954, 956, 958, 960, 962, 964, 966, 968, 970, 972, 974, 976, 978, 980, 982, 984, 986, 988, 990, 992, 994, 996, 998, 1000, 1002, 1004, 1006, 1008, 1010, 1012, 1014, 1016, 1018, 1020, 1022, 1024, 1026, 1028, 1030, 1032, 1034, 1036, 1038, 1040, 1042, 1044, 1046, 1048, 1050, 1052, 1054, 1056, 1058, 1060, 1062, 1064, 1066, 1068, 1070, 1072, 1074, 1076, 1078, 1080, 1082, 1084, 1086, 1088, 1090, 1092, 1094, 1096, 1098, 1100, 1102, 1104, 1106, 1108, 1110, 1112, 1114, 1116, 1118, 1120, 1122, 1124, 1126, 1128, 1130, 1132, 1134, 1136, 1138, 1140, 1142, 1144, 1146, 1148, 1150, 1152, 1154, 1156, 1158, 1160, 1162, 1164, 1166, 1168, 1170, 1172, 1174, 1176, 1178, 1180, 1182, 1184, 1186, 1188, 1190, 1192, 1194, 1196, 1198, 1200, 1202, 1204, 1206, 1208, 1210, 1212, 1214, 1216, 1218, 1220, 1222, 1224, 1226, 1228, 1230, 1232, 1234, 1236, 1238, 1240, 1242, 1244, 1246, 1248, 1250, 1252, 1254, 1256, 1258, 1260, 1262, 1264, 1266, 1268, 1270, 1272, 1274, 1276, 1278, 1280, 1282, 1284, 1286, 1288, 1290, 1292, 1294, 1296, 1298, 1300, 1302, 1304, 1306, 1308, 1310, 1312, 1314, 1316, 1318, 1320, 1322, 1324, 1326, 1328, 1330, 1332, 1334, 1336, 1338, 1340, 1342, 1344, 1346, 1348, 1350, 1352, 1354, 1356, 1358, 1360, 1362, 1364, 1366, 1368, 1370, 1372, 1374, 1376, 1378, 1380, 1382, 1384, 1386, 1388, 1390, 1392, 1394, 1396, 1398, 1400, 1402, 1404, 1406, 1408, 1410, 1412, 1414, 1416, 1418, 1420, 1422, 1424, 1426, 1428, 1430, 1432, 1434, 1436, 1438, 1440, 1442, 1444, 1446, 1448, 1450, 1452, 1454, 1456, 1458, 1460, 1462, 1464, 1466, 1468, 1470, 1472, 1474, 1476, 1478, 1480, 1482, 1484, 1486, 1488, 1490, 1492, 1494, 1496, 1498, 1500, 1502, 1504, 1506, 1508, 1510, 1512, 1514, 1516, 1518, 1520, 1522, 1524, 1526, 1528, 1530, 1532, 1534, 1536, 1538, 1540, 1542, 1544, 1546, 1548, 1550, 1552, 1554, 1556, 1558, 1560, 1562, 1564, 1566, 1568, 1570, 1572, 1574, 1576, 1578, 1580, 1582, 1584, 1586, 1588, 1590, 1592, 1594, 1596, 1598, 1600, 1602, 1604, 1606, 1608, 1610, 1612, 1614, 1616, 1618, 1620, 1622, 1624, 1626, 1628, 1630, 1632, 1634, 1636, 1638, 1640, 1642, 1644, 1646, 1648, 1650, 1652, 1654, 1656, 1658, 1660, 1662, 1664, 1666, 1668, 1670, 1672, 1674, 1676, 1678, 1680, 1682, 1684, 1686, 1688, 1690, 1692, 1694, 1696, 1698, 1700, 1702, 1704, 1706, 1708, 1710, 1712, 1714, 1716, 1718, 1720, 1722, 1724, 1726, 1728, 1730, 1732, 1734, 1736, 1738, 1740, 1742, 1744, 1746, 1748, 1750, 1752, 1754, 1756, 1758, 1760, 1762, 1764, 1766, 1768, 1770, 1772, 1774, 1776, 1778, 1780, 1782, 1784, 1786, 1788, 1790, 1792, 1794, 1796, 1798, 1800, 1802, 1804, 1806, 1808, 1810, 1812, 1814, 1816, 1818, 1820, 1822, 1824, 1826, 1828, 1830, 1832, 1834, 1836, 1838, 1840, 1842, 1844, 1846, 1848, 1850, 1852, 1854, 1856, 1858, 1860, 1862, 1864, 1866, 1868, 1870, 1872, 1874, 1876, 1878, 1880, 1882, 1884, 1886, 1888, 1890, 1892, 1894, 1896, 1898, 1900, 1902, 1904, 1906, 1908, 1910, 1912, 1914, 1916, 1918, 1920, 1922, 1924, 1926, 1928, 1930, 1932, 1934, 1936, 1938, 1940, 1942, 1944, 1946, 1948, 1950, 1952, 1954, 1956, 1958, 1960, 1962, 1964, 1966, 1968, 1970, 1972, 1974, 1976, 1978, 1980, 1982, 1984, 1986, 1988, 1990, 1992, 1994, 1996, 1998, 2000, 2002, 2004, 2006, 2008]\n",
            "Tempo de execução do loop:  0.355 ms\n"
          ]
        }
      ]
    },
    {
      "cell_type": "code",
      "source": [
        "# Criando uma lista com os números 0 a 999 multiplicados por 2 e acrescidos de 10\n",
        "# utilizando list comprehension\n",
        "\n",
        "# Registrando o tempo inicial\n",
        "start_list = time.time()\n",
        "\n",
        "# Criando a lista a partir de list comprehension\n",
        "your_list = [i*2 + 10 for i in range(0,1000)]\n",
        "\n",
        "# Registrando o tempo final\n",
        "end_list = time.time()\n",
        "\n",
        "print(my_list) # Printando a lista de números criada, idêntica à anterior\n",
        "\n",
        "print('Tempo de execução da list comprehension: ', round((end_list - start_list) * 10 ** 3, 4), 'ms')"
      ],
      "metadata": {
        "colab": {
          "base_uri": "https://localhost:8080/"
        },
        "id": "lHgLFbSZak6I",
        "outputId": "538590de-5ab2-4353-9a0c-72bfc179b6d4"
      },
      "execution_count": 19,
      "outputs": [
        {
          "output_type": "stream",
          "name": "stdout",
          "text": [
            "[10, 12, 14, 16, 18, 20, 22, 24, 26, 28, 30, 32, 34, 36, 38, 40, 42, 44, 46, 48, 50, 52, 54, 56, 58, 60, 62, 64, 66, 68, 70, 72, 74, 76, 78, 80, 82, 84, 86, 88, 90, 92, 94, 96, 98, 100, 102, 104, 106, 108, 110, 112, 114, 116, 118, 120, 122, 124, 126, 128, 130, 132, 134, 136, 138, 140, 142, 144, 146, 148, 150, 152, 154, 156, 158, 160, 162, 164, 166, 168, 170, 172, 174, 176, 178, 180, 182, 184, 186, 188, 190, 192, 194, 196, 198, 200, 202, 204, 206, 208, 210, 212, 214, 216, 218, 220, 222, 224, 226, 228, 230, 232, 234, 236, 238, 240, 242, 244, 246, 248, 250, 252, 254, 256, 258, 260, 262, 264, 266, 268, 270, 272, 274, 276, 278, 280, 282, 284, 286, 288, 290, 292, 294, 296, 298, 300, 302, 304, 306, 308, 310, 312, 314, 316, 318, 320, 322, 324, 326, 328, 330, 332, 334, 336, 338, 340, 342, 344, 346, 348, 350, 352, 354, 356, 358, 360, 362, 364, 366, 368, 370, 372, 374, 376, 378, 380, 382, 384, 386, 388, 390, 392, 394, 396, 398, 400, 402, 404, 406, 408, 410, 412, 414, 416, 418, 420, 422, 424, 426, 428, 430, 432, 434, 436, 438, 440, 442, 444, 446, 448, 450, 452, 454, 456, 458, 460, 462, 464, 466, 468, 470, 472, 474, 476, 478, 480, 482, 484, 486, 488, 490, 492, 494, 496, 498, 500, 502, 504, 506, 508, 510, 512, 514, 516, 518, 520, 522, 524, 526, 528, 530, 532, 534, 536, 538, 540, 542, 544, 546, 548, 550, 552, 554, 556, 558, 560, 562, 564, 566, 568, 570, 572, 574, 576, 578, 580, 582, 584, 586, 588, 590, 592, 594, 596, 598, 600, 602, 604, 606, 608, 610, 612, 614, 616, 618, 620, 622, 624, 626, 628, 630, 632, 634, 636, 638, 640, 642, 644, 646, 648, 650, 652, 654, 656, 658, 660, 662, 664, 666, 668, 670, 672, 674, 676, 678, 680, 682, 684, 686, 688, 690, 692, 694, 696, 698, 700, 702, 704, 706, 708, 710, 712, 714, 716, 718, 720, 722, 724, 726, 728, 730, 732, 734, 736, 738, 740, 742, 744, 746, 748, 750, 752, 754, 756, 758, 760, 762, 764, 766, 768, 770, 772, 774, 776, 778, 780, 782, 784, 786, 788, 790, 792, 794, 796, 798, 800, 802, 804, 806, 808, 810, 812, 814, 816, 818, 820, 822, 824, 826, 828, 830, 832, 834, 836, 838, 840, 842, 844, 846, 848, 850, 852, 854, 856, 858, 860, 862, 864, 866, 868, 870, 872, 874, 876, 878, 880, 882, 884, 886, 888, 890, 892, 894, 896, 898, 900, 902, 904, 906, 908, 910, 912, 914, 916, 918, 920, 922, 924, 926, 928, 930, 932, 934, 936, 938, 940, 942, 944, 946, 948, 950, 952, 954, 956, 958, 960, 962, 964, 966, 968, 970, 972, 974, 976, 978, 980, 982, 984, 986, 988, 990, 992, 994, 996, 998, 1000, 1002, 1004, 1006, 1008, 1010, 1012, 1014, 1016, 1018, 1020, 1022, 1024, 1026, 1028, 1030, 1032, 1034, 1036, 1038, 1040, 1042, 1044, 1046, 1048, 1050, 1052, 1054, 1056, 1058, 1060, 1062, 1064, 1066, 1068, 1070, 1072, 1074, 1076, 1078, 1080, 1082, 1084, 1086, 1088, 1090, 1092, 1094, 1096, 1098, 1100, 1102, 1104, 1106, 1108, 1110, 1112, 1114, 1116, 1118, 1120, 1122, 1124, 1126, 1128, 1130, 1132, 1134, 1136, 1138, 1140, 1142, 1144, 1146, 1148, 1150, 1152, 1154, 1156, 1158, 1160, 1162, 1164, 1166, 1168, 1170, 1172, 1174, 1176, 1178, 1180, 1182, 1184, 1186, 1188, 1190, 1192, 1194, 1196, 1198, 1200, 1202, 1204, 1206, 1208, 1210, 1212, 1214, 1216, 1218, 1220, 1222, 1224, 1226, 1228, 1230, 1232, 1234, 1236, 1238, 1240, 1242, 1244, 1246, 1248, 1250, 1252, 1254, 1256, 1258, 1260, 1262, 1264, 1266, 1268, 1270, 1272, 1274, 1276, 1278, 1280, 1282, 1284, 1286, 1288, 1290, 1292, 1294, 1296, 1298, 1300, 1302, 1304, 1306, 1308, 1310, 1312, 1314, 1316, 1318, 1320, 1322, 1324, 1326, 1328, 1330, 1332, 1334, 1336, 1338, 1340, 1342, 1344, 1346, 1348, 1350, 1352, 1354, 1356, 1358, 1360, 1362, 1364, 1366, 1368, 1370, 1372, 1374, 1376, 1378, 1380, 1382, 1384, 1386, 1388, 1390, 1392, 1394, 1396, 1398, 1400, 1402, 1404, 1406, 1408, 1410, 1412, 1414, 1416, 1418, 1420, 1422, 1424, 1426, 1428, 1430, 1432, 1434, 1436, 1438, 1440, 1442, 1444, 1446, 1448, 1450, 1452, 1454, 1456, 1458, 1460, 1462, 1464, 1466, 1468, 1470, 1472, 1474, 1476, 1478, 1480, 1482, 1484, 1486, 1488, 1490, 1492, 1494, 1496, 1498, 1500, 1502, 1504, 1506, 1508, 1510, 1512, 1514, 1516, 1518, 1520, 1522, 1524, 1526, 1528, 1530, 1532, 1534, 1536, 1538, 1540, 1542, 1544, 1546, 1548, 1550, 1552, 1554, 1556, 1558, 1560, 1562, 1564, 1566, 1568, 1570, 1572, 1574, 1576, 1578, 1580, 1582, 1584, 1586, 1588, 1590, 1592, 1594, 1596, 1598, 1600, 1602, 1604, 1606, 1608, 1610, 1612, 1614, 1616, 1618, 1620, 1622, 1624, 1626, 1628, 1630, 1632, 1634, 1636, 1638, 1640, 1642, 1644, 1646, 1648, 1650, 1652, 1654, 1656, 1658, 1660, 1662, 1664, 1666, 1668, 1670, 1672, 1674, 1676, 1678, 1680, 1682, 1684, 1686, 1688, 1690, 1692, 1694, 1696, 1698, 1700, 1702, 1704, 1706, 1708, 1710, 1712, 1714, 1716, 1718, 1720, 1722, 1724, 1726, 1728, 1730, 1732, 1734, 1736, 1738, 1740, 1742, 1744, 1746, 1748, 1750, 1752, 1754, 1756, 1758, 1760, 1762, 1764, 1766, 1768, 1770, 1772, 1774, 1776, 1778, 1780, 1782, 1784, 1786, 1788, 1790, 1792, 1794, 1796, 1798, 1800, 1802, 1804, 1806, 1808, 1810, 1812, 1814, 1816, 1818, 1820, 1822, 1824, 1826, 1828, 1830, 1832, 1834, 1836, 1838, 1840, 1842, 1844, 1846, 1848, 1850, 1852, 1854, 1856, 1858, 1860, 1862, 1864, 1866, 1868, 1870, 1872, 1874, 1876, 1878, 1880, 1882, 1884, 1886, 1888, 1890, 1892, 1894, 1896, 1898, 1900, 1902, 1904, 1906, 1908, 1910, 1912, 1914, 1916, 1918, 1920, 1922, 1924, 1926, 1928, 1930, 1932, 1934, 1936, 1938, 1940, 1942, 1944, 1946, 1948, 1950, 1952, 1954, 1956, 1958, 1960, 1962, 1964, 1966, 1968, 1970, 1972, 1974, 1976, 1978, 1980, 1982, 1984, 1986, 1988, 1990, 1992, 1994, 1996, 1998, 2000, 2002, 2004, 2006, 2008]\n",
            "Tempo de execução da list comprehension:  0.2439 ms\n"
          ]
        }
      ]
    },
    {
      "cell_type": "code",
      "source": [
        "# Computando a diferença de velocidade entre os dois métodos:\n",
        "dif_list = end_list - start_list\n",
        "dif_for = end_for - start_for\n",
        "\n",
        "#Printando a diferença de velocidade entre os dois métodos\n",
        "print(\"Diferença de tempo: \", ((dif_for - dif_list)/dif_list*100), '%')"
      ],
      "metadata": {
        "colab": {
          "base_uri": "https://localhost:8080/"
        },
        "id": "GnBvPW4QAz_9",
        "outputId": "5a047814-8a9e-4bc0-f438-cb1a5b64799a"
      },
      "execution_count": 20,
      "outputs": [
        {
          "output_type": "stream",
          "name": "stdout",
          "text": [
            "Diferença de tempo:  45.552297165200386 %\n"
          ]
        }
      ]
    },
    {
      "cell_type": "markdown",
      "source": [
        "Podemos observar o mesmo efeito quando fazemos uso de ```dict comprehensions```. No exemplo abaixo, vamos construir dois dicionários: um por meio de um ```for loop``` e o outro através de uma ```dict comprehension```\n",
        "\n"
      ],
      "metadata": {
        "id": "e85uNBIOE5Wk"
      }
    },
    {
      "cell_type": "code",
      "source": [
        "dev_bixos = ['Carlos', 'Cinthya', 'Isadora', 'Jhonatan', 'Lorenzo', 'Maria Raquel'] # Lista com os novos bixos da dev\n",
        "graduacao = ['Econo', 'Econo', 'Econo', 'Eng Metalúrgica', 'Econo', 'ADM'] # Lista com seus respectivos cursos"
      ],
      "metadata": {
        "id": "NUldvxQoGaja"
      },
      "execution_count": 21,
      "outputs": []
    },
    {
      "cell_type": "code",
      "source": [
        "# Construindo dicionário através de for loop\n",
        "\n",
        "dicionario = {} # Inicializando dicionário vazio\n",
        "\n",
        "start_for = time.time() # Contabilizando o tempo inicial\n",
        "\n",
        "for nomes, cursos in zip(dev_bixos, graduacao):\n",
        "  dicionario[nomes] = cursos # Atribuindo a cada nome (chave) um curso (valor)\n",
        "\n",
        "print(dicionario)\n",
        "end_for = time.time() # Contabilizando o tempo final\n",
        "\n",
        "print('Tempo de execução do for: ', round((end_for - start_for) * 10 ** 3, 4), 'ms')"
      ],
      "metadata": {
        "colab": {
          "base_uri": "https://localhost:8080/"
        },
        "id": "4_-ugwjsGqtq",
        "outputId": "34d305d2-17c8-42be-829f-5ba0136cc9ef"
      },
      "execution_count": 22,
      "outputs": [
        {
          "output_type": "stream",
          "name": "stdout",
          "text": [
            "{'Carlos': 'Econo', 'Cinthya': 'Econo', 'Isadora': 'Econo', 'Jhonatan': 'Eng Metalúrgica', 'Lorenzo': 'Econo', 'Maria Raquel': 'ADM'}\n",
            "Tempo de execução do for:  1.5104 ms\n"
          ]
        }
      ]
    },
    {
      "cell_type": "markdown",
      "source": [
        "*Disclaimer sobre a utilidade da função ```zip()```:*\n"
      ],
      "metadata": {
        "id": "GfSTz7UELrqZ"
      }
    },
    {
      "cell_type": "code",
      "source": [
        "# Disclaimer: a função zip torna possível iterar através de duas listas sem precisar de uma variável index a mais\n",
        "#(de primeira eu tinha feito assim, antes de pensar na função zip)\n",
        "\n",
        "index = 0\n",
        "for nomes in dev_bixos:\n",
        "  dicionario[nomes] = graduacao[index] \n",
        "  index += 1 \n"
      ],
      "metadata": {
        "id": "mVzHp6VxLW2j"
      },
      "execution_count": 23,
      "outputs": []
    },
    {
      "cell_type": "markdown",
      "source": [
        "*Fim do disclaimer*\n",
        "\n",
        "\n",
        "\n"
      ],
      "metadata": {
        "id": "kBcLzqRpLxXx"
      }
    },
    {
      "cell_type": "code",
      "source": [
        "# Construindo dicionário atráves de dict comprehension\n",
        "\n",
        "start_dict = time.time() \n",
        "\n",
        "# Criando o mesmo dicionário através de uma dict comprehension\n",
        "dicionario = {nomes: cursos for nomes, cursos in zip(dev_bixos, graduacao)}\n",
        "\n",
        "end_dict = time.time()\n",
        "\n",
        "print(dicionario) # Printando o dicionário\n",
        "\n",
        "print('Tempo de execução da dict comprehension: ', round((end_dict - start_dict) * 10 ** 3, 4), 'ms')"
      ],
      "metadata": {
        "colab": {
          "base_uri": "https://localhost:8080/"
        },
        "id": "gsWUQx7zGsob",
        "outputId": "6f7dca70-dde7-4217-fbbc-6be318d9a29f"
      },
      "execution_count": 24,
      "outputs": [
        {
          "output_type": "stream",
          "name": "stdout",
          "text": [
            "{'Carlos': 'Econo', 'Cinthya': 'Econo', 'Isadora': 'Econo', 'Jhonatan': 'Eng Metalúrgica', 'Lorenzo': 'Econo', 'Maria Raquel': 'ADM'}\n",
            "Tempo de execução da dict comprehension:  0.1168 ms\n"
          ]
        }
      ]
    },
    {
      "cell_type": "code",
      "source": [
        "for_dif = end_for - start_for \n",
        "dif_dict = end_dict - start_dict\n",
        "\n",
        "#Printando a diferença de velocidade entre os dois métodos\n",
        "print(\"Diferença de tempo: \", ((dif_for - dif_dict)/dif_dict*100), '%')\n",
        "\n"
      ],
      "metadata": {
        "colab": {
          "base_uri": "https://localhost:8080/"
        },
        "id": "QZE9_nEtKQbJ",
        "outputId": "4a9b340e-33bc-4da7-9473-9157fb2e4dae"
      },
      "execution_count": 25,
      "outputs": [
        {
          "output_type": "stream",
          "name": "stdout",
          "text": [
            "Diferença de tempo:  203.87755102040813 %\n"
          ]
        }
      ]
    },
    {
      "cell_type": "markdown",
      "source": [
        "Note que não só as comprehensions foram muito mais rápidas em termos de processamento, como também evitam a necessidade de criação de uma lista ou dicionário vazios e toda a escrita da estrutura de um for, reduzindo as linhas de código utilizadas."
      ],
      "metadata": {
        "id": "VRX-jGjUMilR"
      }
    },
    {
      "cell_type": "markdown",
      "source": [
        "*Disclaimer:*\n",
        "\n",
        "A depender de qual o seu objetivo, **uma ferramenta pode ser melhor do que outra**.\n",
        "\n",
        "Para a *criação de listas* ou *dicionários*, as ```list``` e ```dict comprehensions``` são mais eficientes.  Mas caso a criação de uma lista/dict *não seja o objetivo*, e a intenção seja somente de chamar funções ou fazer operações computacionais básicas, os ```for loops``` podem ser mais velozes. \n",
        "\n",
        "Referências: [Python List Comprehensions vs. For Loops: Which One to Use and When](https://vegibit.com/python-list-comprehensions-vs-for-loops-which-one-to-use-and-when/) |   [Comprehensive Guide to Python List Comprehensions](https://pythonsimplified.com/comprehensive-guide-to-python-list-comprehensions/#What_happens_under_the_hood) | [Why is this loop faster than a dictionary comprehension for creating a dictionary?](https://stackoverflow.com/questions/52542742/why-is-this-loop-faster-than-a-dictionary-comprehension-for-creating-a-dictionar) | [Speed/efficiency comparison for loop vs list comprehension vs other methods](https://stackoverflow.com/questions/28581218/speed-efficiency-comparison-for-loop-vs-list-comprehension-vs-other-methods)\n",
        "\n",
        "\n",
        "\n"
      ],
      "metadata": {
        "id": "zhsNBlFYsMY9"
      }
    },
    {
      "cell_type": "markdown",
      "source": [
        "Isso aqui vai ser ótimo:[texto do link](https://pythonsimplified.com/comprehensive-guide-to-python-list-comprehensions/#What_happens_under_the_hood)"
      ],
      "metadata": {
        "id": "LEIjle8CdVGG"
      }
    },
    {
      "cell_type": "markdown",
      "source": [
        "### Sintaxe das ```list``` e ```dict comprehensions```"
      ],
      "metadata": {
        "id": "u6LVn7yIq_3o"
      }
    },
    {
      "cell_type": "markdown",
      "source": [
        "**(i) Atenção:** para ```list comprehensions```, usamos ```[]```; para ```dict comprehensions``` usamos ```{}``` e para ```geradores``` usamos ```()```\n"
      ],
      "metadata": {
        "id": "xuCyhVwnw1rk"
      }
    },
    {
      "cell_type": "markdown",
      "source": [
        "**(ii) Atenção:** lembre-se do que é um objeto pelo qual se pode iterar: \n",
        "\n",
        "podemos iterar por \n",
        "\n",
        "```range(50)``` (range de números)\n",
        "\n",
        " ```'Econometristes'``` (string)\n",
        " \n",
        "```['Carlos', 'Cinthya', 'Isadora', 'Jhonatan', 'Lorenzo', 'Maria Raquel']``` (lista)\n",
        "  \n",
        "```{'Carlos': 'Econo', 'Cinthya': 'Econo', 'Isadora': 'Econo', 'Jhonatan': 'ADM', 'Lorenzo': 'Econo', 'Maria Raquel': 'ADM'}``` (dicionário)\n",
        "    \n",
        "mas não por ```numero_inteiro = int(5.0)```, por exemplo.\n",
        "\n"
      ],
      "metadata": {
        "id": "jtSvxNfUw4BK"
      }
    },
    {
      "cell_type": "markdown",
      "source": [
        "\n",
        "#### **```List comprehensions```**\n",
        "\n",
        "**```new_list = [output for iterator in iterable]```**\n",
        "\n",
        "*Exemplo*:\n",
        "\n",
        "\n"
      ],
      "metadata": {
        "id": "aqSa3ocCvHzV"
      }
    },
    {
      "cell_type": "code",
      "source": [
        "squares = [i**2 for i in range(0,10)] # Eleva os números de 0 a 9 ao quadrado\n",
        "print(squares)"
      ],
      "metadata": {
        "colab": {
          "base_uri": "https://localhost:8080/"
        },
        "id": "8IvDH7DezyXb",
        "outputId": "4bb7c77d-5384-423d-a18e-bdc097de2948"
      },
      "execution_count": 26,
      "outputs": [
        {
          "output_type": "stream",
          "name": "stdout",
          "text": [
            "[0, 1, 4, 9, 16, 25, 36, 49, 64, 81]\n"
          ]
        }
      ]
    },
    {
      "cell_type": "markdown",
      "source": [
        "\n",
        "**```new_list = [output for iterator in iterable if conditional]```**\n",
        "\n",
        "*Exemplo*:\n",
        "\n",
        "\n",
        "\n",
        "\n",
        "\n"
      ],
      "metadata": {
        "id": "rdBsc38IzmeN"
      }
    },
    {
      "cell_type": "code",
      "source": [
        "#  Eleva os números pares de 0 a 9 ao quadrado \n",
        "squares = [i**2 for i in range(0,10) if i%2 ==0] \n",
        "print(squares)"
      ],
      "metadata": {
        "colab": {
          "base_uri": "https://localhost:8080/"
        },
        "id": "zp8VRDRSz4xt",
        "outputId": "55451d25-8465-4d01-ace7-d87baa7e930d"
      },
      "execution_count": 27,
      "outputs": [
        {
          "output_type": "stream",
          "name": "stdout",
          "text": [
            "[0, 4, 16, 36, 64]\n"
          ]
        }
      ]
    },
    {
      "cell_type": "markdown",
      "source": [
        "\n",
        "**```new_list = [output if conditional else alternative_output for iterator in iterable]```**\n",
        "\n",
        "*Exemplo*:\n",
        "\n",
        "\n"
      ],
      "metadata": {
        "id": "OS5KlfEqzoks"
      }
    },
    {
      "cell_type": "code",
      "source": [
        "#  Eleva os números pares de 0 a 9 ao quadrado e printa '-' no lugar dos quadrados dos ímpares\n",
        "squares = [i**2 if i % 2 == 0 else '-' for i in range(0,10)] \n",
        "print(squares)"
      ],
      "metadata": {
        "colab": {
          "base_uri": "https://localhost:8080/"
        },
        "id": "yw8qJR350AkL",
        "outputId": "6d686501-b921-48ad-da55-c67093772063"
      },
      "execution_count": 28,
      "outputs": [
        {
          "output_type": "stream",
          "name": "stdout",
          "text": [
            "[0, '-', 4, '-', 16, '-', 36, '-', 64, '-']\n"
          ]
        }
      ]
    },
    {
      "cell_type": "markdown",
      "source": [
        "*Obs: para usar o ```else```, precisamos colocar a condicional no início da ```comprehension```. Veja:*\n",
        "\n",
        "\n"
      ],
      "metadata": {
        "id": "V0R3mXUl0jfE"
      }
    },
    {
      "cell_type": "code",
      "source": [
        "# Else colocado no final: não funciona\n",
        "squares = [i**2 for i in range(0,10) if i% 2 == 0 else '-'] #  Eleva os números pares de 0 a 9 ao quadrado \n",
        "print(squares)"
      ],
      "metadata": {
        "colab": {
          "base_uri": "https://localhost:8080/",
          "height": 130
        },
        "id": "hzRNgqd_1Ttp",
        "outputId": "0b76b2f9-e602-4f5d-ec4a-a949b5c6f0c1"
      },
      "execution_count": 29,
      "outputs": [
        {
          "output_type": "error",
          "ename": "SyntaxError",
          "evalue": "ignored",
          "traceback": [
            "\u001b[0;36m  File \u001b[0;32m\"<ipython-input-29-41f2b53011d1>\"\u001b[0;36m, line \u001b[0;32m2\u001b[0m\n\u001b[0;31m    squares = [i**2 for i in range(0,10) if i% 2 == 0 else '-'] #  Eleva os números pares de 0 a 9 ao quadrado\u001b[0m\n\u001b[0m                                                      ^\u001b[0m\n\u001b[0;31mSyntaxError\u001b[0m\u001b[0;31m:\u001b[0m invalid syntax\n"
          ]
        }
      ]
    },
    {
      "cell_type": "code",
      "source": [
        "# COndicional sem else no início: não funciona\n",
        "squares = [i**2 if i % 2 == 0 for i in range(0,10)] #  Eleva os números pares de 0 a 9 ao quadrado \n",
        "print(squares)"
      ],
      "metadata": {
        "colab": {
          "base_uri": "https://localhost:8080/",
          "height": 130
        },
        "id": "qq0FLP3z0rl9",
        "outputId": "6162a07d-57ac-49f2-ce4d-c158805cd3a2"
      },
      "execution_count": 30,
      "outputs": [
        {
          "output_type": "error",
          "ename": "SyntaxError",
          "evalue": "ignored",
          "traceback": [
            "\u001b[0;36m  File \u001b[0;32m\"<ipython-input-30-bf820de8b96d>\"\u001b[0;36m, line \u001b[0;32m2\u001b[0m\n\u001b[0;31m    squares = [i**2 if i % 2 == 0 for i in range(0,10)] #  Eleva os números pares de 0 a 9 ao quadrado\u001b[0m\n\u001b[0m                                  ^\u001b[0m\n\u001b[0;31mSyntaxError\u001b[0m\u001b[0;31m:\u001b[0m invalid syntax\n"
          ]
        }
      ]
    },
    {
      "cell_type": "markdown",
      "source": [
        "Também podemos usar operadores como ```and```, ```or``` e ```not```:\n"
      ],
      "metadata": {
        "id": "blpGzwip0gSM"
      }
    },
    {
      "cell_type": "code",
      "source": [
        "squares = [i**2 for i in range(0,10) if i% 2 == 0 or i%3 == 0] #  Eleva somente os números de 0 a 9 divisíveis por 2 ou 3\n",
        "print(squares)"
      ],
      "metadata": {
        "colab": {
          "base_uri": "https://localhost:8080/"
        },
        "id": "NJwAcsBH2LE7",
        "outputId": "d29dbad1-a620-4fc2-9e99-7d9b10d53b03"
      },
      "execution_count": 31,
      "outputs": [
        {
          "output_type": "stream",
          "name": "stdout",
          "text": [
            "[0, 4, 9, 16, 36, 64, 81]\n"
          ]
        }
      ]
    },
    {
      "cell_type": "code",
      "source": [
        "squares = [i**2 for i in range(0,10) if i% 2 == 0 and i%3 == 0] #  Eleva somente os números de 0 a 9 divisíveis por 2 e 3\n",
        "print(squares)"
      ],
      "metadata": {
        "colab": {
          "base_uri": "https://localhost:8080/"
        },
        "id": "TLLRC6MQ1Ba0",
        "outputId": "7aea5299-1da5-4bbe-eba1-a13ff8911655"
      },
      "execution_count": 32,
      "outputs": [
        {
          "output_type": "stream",
          "name": "stdout",
          "text": [
            "[0, 36]\n"
          ]
        }
      ]
    },
    {
      "cell_type": "markdown",
      "source": [
        "Tabém é possível criar ```list comprehensions``` uma dentro da outra, tal qual fazemos com os ```for loops```!\n",
        "\n",
        "Nesse caso, a ```output expression``` será outra ```list comprehension```.\n"
      ],
      "metadata": {
        "id": "O_Ph_tJ-2p6q"
      }
    },
    {
      "cell_type": "code",
      "source": [
        "#Printando a matriz usando list comprehension\n",
        "\n",
        "matrix = [[col for col in range(0,5)] for row in range(0,5)] # criando matriz\n",
        "for row in matrix: # printando matriz\n",
        "  print(row)"
      ],
      "metadata": {
        "colab": {
          "base_uri": "https://localhost:8080/"
        },
        "id": "S95aU6HO2y6b",
        "outputId": "8e9b8617-be13-488b-a52d-938062a40d70"
      },
      "execution_count": 34,
      "outputs": [
        {
          "output_type": "stream",
          "name": "stdout",
          "text": [
            "[0, 1, 2, 3, 4]\n",
            "[0, 1, 2, 3, 4]\n",
            "[0, 1, 2, 3, 4]\n",
            "[0, 1, 2, 3, 4]\n",
            "[0, 1, 2, 3, 4]\n"
          ]
        }
      ]
    },
    {
      "cell_type": "code",
      "source": [
        "#Printando a matriz usando for loop\n",
        "lista_exterior = [] # Criando a lista do loop exterior\n",
        "lista_interior = [] # Criando a lista do loop interior\n",
        "\n",
        "for row in range(0,5): # Loopando pelas linhas\n",
        "  for col in range(0,5): # Loopando pelas colunas\n",
        "    lista_interior.append(col) # Criando a lista que será adicionada em cada linha da matriz\n",
        "  lista_exterior.append(lista_interior) # Adicionando a lista de cada linha à matriz\n",
        "  lista_interior = [] # Reiniciando a lista interior \n",
        "  \n",
        "for row in lista_exterior: # Printando a matriz\n",
        "  print(row)\n"
      ],
      "metadata": {
        "colab": {
          "base_uri": "https://localhost:8080/"
        },
        "id": "BdZnbDj93Eos",
        "outputId": "a6841428-8fb4-4137-f1da-b0aa8b51bb9b"
      },
      "execution_count": 33,
      "outputs": [
        {
          "output_type": "stream",
          "name": "stdout",
          "text": [
            "[0, 1, 2, 3, 4]\n",
            "[0, 1, 2, 3, 4]\n",
            "[0, 1, 2, 3, 4]\n",
            "[0, 1, 2, 3, 4]\n",
            "[0, 1, 2, 3, 4]\n"
          ]
        }
      ]
    },
    {
      "cell_type": "code",
      "source": [
        "dev_bixos = ['Carlos', 'Cinthya', 'Isadora', 'Jhonatan', 'Lorenzo', 'Maria Raquel'] # Lista com os novos bixos da dev\n",
        "graduacao = ['Econo', 'Econo', 'Econo', 'Eng Metalúrgica', 'Econo', 'ADM'] # Lista com seus respectivos cursos"
      ],
      "metadata": {
        "id": "XV3_1Xhx2r9U"
      },
      "execution_count": 35,
      "outputs": []
    },
    {
      "cell_type": "markdown",
      "source": [
        "\n",
        "#### **```Dict comprehensions```**\n",
        "\n",
        "Para cada item no objeto iterável, vamos gerar um par ```key:value```.\n",
        "\n",
        "\n",
        "**```new_dic = {output_key:output_value for iterator in iterable}```**\n",
        "\n",
        "*Exemplo*:\n",
        "\n",
        "\n"
      ],
      "metadata": {
        "id": "RMBYJ1vhzonu"
      }
    },
    {
      "cell_type": "code",
      "source": [
        "nome_curso = {nome:curso for nome, curso in zip(dev_bixos, graduacao)}\n",
        "print(nome_curso)"
      ],
      "metadata": {
        "colab": {
          "base_uri": "https://localhost:8080/"
        },
        "id": "vO19YM6dDL2S",
        "outputId": "00c8539b-6696-4f1e-9931-c2066a13ce0f"
      },
      "execution_count": 36,
      "outputs": [
        {
          "output_type": "stream",
          "name": "stdout",
          "text": [
            "{'Carlos': 'Econo', 'Cinthya': 'Econo', 'Isadora': 'Econo', 'Jhonatan': 'Eng Metalúrgica', 'Lorenzo': 'Econo', 'Maria Raquel': 'ADM'}\n"
          ]
        }
      ]
    },
    {
      "cell_type": "code",
      "source": [
        "# Note que não faz sentido usar '[' e ']' se vc está criando um par chave:valor\n",
        "nome_curso = [nome:curso for nome, curso in zip(dev_bixos, graduacao)]\n",
        "print(nome_curso)"
      ],
      "metadata": {
        "colab": {
          "base_uri": "https://localhost:8080/",
          "height": 130
        },
        "id": "DOPBn703DluL",
        "outputId": "5f921bb9-db7d-4957-c56d-9ea33a160f69"
      },
      "execution_count": 37,
      "outputs": [
        {
          "output_type": "error",
          "ename": "SyntaxError",
          "evalue": "ignored",
          "traceback": [
            "\u001b[0;36m  File \u001b[0;32m\"<ipython-input-37-3f529188d6b0>\"\u001b[0;36m, line \u001b[0;32m2\u001b[0m\n\u001b[0;31m    nome_curso = [nome:curso for nome, curso in zip(dev_bixos, graduacao)]\u001b[0m\n\u001b[0m                      ^\u001b[0m\n\u001b[0;31mSyntaxError\u001b[0m\u001b[0;31m:\u001b[0m invalid syntax\n"
          ]
        }
      ]
    },
    {
      "cell_type": "markdown",
      "source": [
        "Condicional no fim (sem else):\n",
        "\n",
        "**```new_dic  = {output_key:output_value for iterator in iterable if conditional}```**\n",
        "\n",
        "*Exemplo*:\n",
        "\n",
        "\n"
      ],
      "metadata": {
        "id": "AB7KmXNBzoqr"
      }
    },
    {
      "cell_type": "code",
      "source": [
        "nome_curso = {nome:curso for nome, curso in zip(dev_bixos, graduacao) if curso!='Econo'}\n",
        "print(nome_curso)"
      ],
      "metadata": {
        "colab": {
          "base_uri": "https://localhost:8080/"
        },
        "id": "1yj0GR3GEt6M",
        "outputId": "db6d45d5-12dd-4de7-bef3-e6e9773f944f"
      },
      "execution_count": 38,
      "outputs": [
        {
          "output_type": "stream",
          "name": "stdout",
          "text": [
            "{'Jhonatan': 'Eng Metalúrgica', 'Maria Raquel': 'ADM'}\n"
          ]
        }
      ]
    },
    {
      "cell_type": "markdown",
      "source": [
        "\n",
        "1 condicional no ```value```\n",
        "\n",
        "**```new_dic  = {output_key:(output_value if conditional else alternative_value) for iterator in iterable}```**\n",
        "\n",
        "\n",
        "*Exemplo*:"
      ],
      "metadata": {
        "id": "hu0ecc9Qzs68"
      }
    },
    {
      "cell_type": "code",
      "source": [
        "nome_curso = {nome:(curso if curso!='Econo' else 'curso de doido') for nome, curso in zip(dev_bixos, graduacao) }\n",
        "print(nome_curso)"
      ],
      "metadata": {
        "colab": {
          "base_uri": "https://localhost:8080/"
        },
        "id": "pDR74_XrE77K",
        "outputId": "589464d2-08e5-42a1-ac18-55bb2814c0cc"
      },
      "execution_count": 39,
      "outputs": [
        {
          "output_type": "stream",
          "name": "stdout",
          "text": [
            "{'Carlos': 'curso de doido', 'Cinthya': 'curso de doido', 'Isadora': 'curso de doido', 'Jhonatan': 'Eng Metalúrgica', 'Lorenzo': 'curso de doido', 'Maria Raquel': 'ADM'}\n"
          ]
        }
      ]
    },
    {
      "cell_type": "code",
      "source": [
        "for nome, curso in zip(dev_bixos, graduacao):\n",
        "  if nome[0] == 'C':\n",
        "    print(nome, curso)\n",
        "  else:\n",
        "    print(curso)"
      ],
      "metadata": {
        "colab": {
          "base_uri": "https://localhost:8080/"
        },
        "id": "EJRi_9fyKZGr",
        "outputId": "f195c10a-dcb0-4bf6-c715-c3a2e196678d"
      },
      "execution_count": 40,
      "outputs": [
        {
          "output_type": "stream",
          "name": "stdout",
          "text": [
            "Carlos Econo\n",
            "Cinthya Econo\n",
            "Econo\n",
            "Eng Metalúrgica\n",
            "Econo\n",
            "ADM\n"
          ]
        }
      ]
    },
    {
      "cell_type": "markdown",
      "source": [
        "Dá pra brincar mais com os if-elses nas dict comprehensions! Só que eu tive problemas. Enfim..."
      ],
      "metadata": {
        "id": "SKJAKBsXVNxB"
      }
    },
    {
      "cell_type": "markdown",
      "source": [
        "#### Códigos com problema\n"
      ],
      "metadata": {
        "id": "rUd0kEsTVWMw"
      }
    },
    {
      "cell_type": "markdown",
      "source": [
        "1 condicional na ```key```\n",
        "\n",
        "**```new_dic  = {(output_key if conditional else alternative_key):output_value if conditional else alternative_value) for iterator in iterable}```**\n",
        "\n",
        "*Exemplo:*"
      ],
      "metadata": {
        "id": "5Qi9-pxkMtvG"
      }
    },
    {
      "cell_type": "code",
      "source": [
        "#Printa os valores de 0 a 10 multiplicados por 2 para as chaves \n",
        "a = 'nothing'\n",
        "dic_test = {(a if i < 6 else i):i*2 for i in range(0,11)}\n",
        "print(dic_test)"
      ],
      "metadata": {
        "colab": {
          "base_uri": "https://localhost:8080/"
        },
        "id": "EjPUr1hxTLGz",
        "outputId": "04603cac-02f8-43cb-e12d-3049ada1a18a"
      },
      "execution_count": 55,
      "outputs": [
        {
          "output_type": "stream",
          "name": "stdout",
          "text": [
            "{'nothing': 10, 6: 12, 7: 14, 8: 16, 9: 18, 10: 20}\n"
          ]
        }
      ]
    },
    {
      "cell_type": "code",
      "source": [
        "string = 'Aluno jubilado'\n",
        "nome_curso = {(nome if len(nome)==7 else string):curso for nome, curso in zip(dev_bixos, graduacao) }\n",
        "print(nome_curso)"
      ],
      "metadata": {
        "colab": {
          "base_uri": "https://localhost:8080/"
        },
        "id": "pS3itoK8Mwsu",
        "outputId": "607a9fb8-3f84-4d2c-e49c-dc84b4c16b35"
      },
      "execution_count": 56,
      "outputs": [
        {
          "output_type": "stream",
          "name": "stdout",
          "text": [
            "{'Aluno jubilado': 'ADM', 'Cinthya': 'Econo', 'Isadora': 'Econo', 'Lorenzo': 'Econo'}\n"
          ]
        }
      ]
    },
    {
      "cell_type": "markdown",
      "source": [
        "\n",
        "condicionais em ambos ```key``` e ```value```\n",
        "\n",
        "\n",
        "**```new_dic  = {(output_key if conditional else alternative_key):(output_value if conditional else alternative_value) for iterator in iterable}```**\n",
        "\n",
        "*Exemplo:*"
      ],
      "metadata": {
        "id": "RnZpQlahMlrE"
      }
    },
    {
      "cell_type": "code",
      "source": [
        "nome_curso = {(nome if nome[0] == 'C' else 'Aluno Jubilado'):(curso if curso!='Econo' else 'Curso de doido') for nome, curso in zip(dev_bixos, graduacao)}\n",
        "print(nome)\n",
        "print(nome_curso)"
      ],
      "metadata": {
        "colab": {
          "base_uri": "https://localhost:8080/"
        },
        "id": "4l0l1XNRJjyM",
        "outputId": "25602d42-cba1-45ba-d3a9-2410bcd79963"
      },
      "execution_count": 57,
      "outputs": [
        {
          "output_type": "stream",
          "name": "stdout",
          "text": [
            "Maria Raquel\n",
            "{'Carlos': 'Curso de doido', 'Cinthya': 'Curso de doido', 'Aluno Jubilado': 'ADM'}\n"
          ]
        }
      ]
    },
    {
      "cell_type": "code",
      "source": [],
      "metadata": {
        "id": "EKOsRADsJj6j"
      },
      "execution_count": 57,
      "outputs": []
    },
    {
      "cell_type": "markdown",
      "source": [
        "{(a if condition else b): value for key, value in dict.items()}"
      ],
      "metadata": {
        "id": "cCjkBpjlGyq9"
      }
    },
    {
      "cell_type": "markdown",
      "source": [
        "## Generators\n",
        "* Mesma sintaxe de uma list comprehension. Usa-se ```( )``` ao invés de ```[ ]``` ou ```{}```\n",
        "* Retornam ```generator objects```, da mesma forma que ```list comprehensions``` retornam listas e ```dict comprehensions``` retornam dicionários\n",
        "* Em funções como ```items()``` e ```range()``` Python cria geradores para nós por debaixo dos panos!\n"
      ],
      "metadata": {
        "id": "uDtXkLh-n406"
      }
    },
    {
      "cell_type": "code",
      "source": [
        "gerador = (i for i in range(0,10))\n",
        "print(gerador)"
      ],
      "metadata": {
        "id": "OtMyW-YUNMFc"
      },
      "execution_count": null,
      "outputs": []
    },
    {
      "cell_type": "code",
      "source": [
        "print(type(gerador))"
      ],
      "metadata": {
        "id": "V163nBt7NPxA"
      },
      "execution_count": null,
      "outputs": []
    },
    {
      "cell_type": "markdown",
      "source": [
        "\n",
        "* É similar a uma comprehension mas é um objeto que **não armazena os valores na memória**. Pode ser iterado para reproduzir os valores gerados.\n",
        "\n",
        "* Útil para trabalhar com grandes sequências numéricas, como um range de números de 0 a Googol (1 seguido de cem zeros)\n",
        "\n"
      ],
      "metadata": {
        "id": "9uxjxLG7NMdQ"
      }
    },
    {
      "cell_type": "code",
      "source": [
        "print(next(gerador))"
      ],
      "metadata": {
        "id": "uBHPYr4TNaQp"
      },
      "execution_count": null,
      "outputs": []
    },
    {
      "cell_type": "code",
      "source": [
        "print(next(gerador))"
      ],
      "metadata": {
        "id": "gGZ49zPCNblr"
      },
      "execution_count": null,
      "outputs": []
    },
    {
      "cell_type": "markdown",
      "source": [
        "Eventualmente, a lista de elementos criados pelo gerador chega ao fim. Veja:\n"
      ],
      "metadata": {
        "id": "vfw65E_HNt4n"
      }
    },
    {
      "cell_type": "code",
      "source": [
        "for i in range(0,10):\n",
        "  print(next(gerador))"
      ],
      "metadata": {
        "id": "aSGj9Z5iNkfY"
      },
      "execution_count": null,
      "outputs": []
    },
    {
      "cell_type": "markdown",
      "source": [
        "Podemos, também, definir **funções geradoras**. A sintaxe é a *mesma*, mas ao invés de ```return```, utilizaremos ```yield```.\n"
      ],
      "metadata": {
        "id": "Co33y3DSOy_v"
      }
    },
    {
      "cell_type": "code",
      "source": [
        "#Função geradora que gera números de 0 ao infinito\n",
        "\n",
        "def range_infinito():\n",
        "  num = 0\n",
        "  while True:\n",
        "    yield num\n",
        "    num +=1"
      ],
      "metadata": {
        "id": "pOaTOPAXPzep"
      },
      "execution_count": null,
      "outputs": []
    },
    {
      "cell_type": "markdown",
      "source": [
        "Chamando \n",
        "```\n",
        "for i in range_infinito():\n",
        "  print(i, end = \" \")\n",
        "\n",
        "```\n",
        "\n",
        "a função rodaria infinitamente, até que você interrompa ela manualmente."
      ],
      "metadata": {
        "id": "L2Cu0_SPQHUQ"
      }
    },
    {
      "cell_type": "markdown",
      "source": [
        "Esse link do Stack Overflow discute soluções para resetar um gerador: [https://stackoverflow.com/questions/1271320/resetting-generator-object-in-python](https://stackoverflow.com/questions/1271320/resetting-generator-object-in-python)"
      ],
      "metadata": {
        "id": "dOZfERunQZuI"
      }
    },
    {
      "cell_type": "code",
      "source": [],
      "metadata": {
        "id": "XsDFpmfJLpi1"
      },
      "execution_count": null,
      "outputs": []
    }
  ]
}